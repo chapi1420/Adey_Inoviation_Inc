{
 "cells": [
  {
   "cell_type": "code",
   "execution_count": 9,
   "metadata": {},
   "outputs": [],
   "source": [
    "import os\n",
    "import sys"
   ]
  },
  {
   "cell_type": "code",
   "execution_count": 10,
   "metadata": {},
   "outputs": [],
   "source": [
    "sys.path.append(os.path.abspath('..'))"
   ]
  },
  {
   "cell_type": "code",
   "execution_count": 11,
   "metadata": {},
   "outputs": [],
   "source": [
    "from scripts.handle_missing_val import *"
   ]
  },
  {
   "cell_type": "code",
   "execution_count": 12,
   "metadata": {},
   "outputs": [],
   "source": [
    "credit_data = '/home/nahomnadew/Desktop/10x/week8/Adey_Inoviation_Inc/Data/creditcard.csv'\n",
    "Fraud_data = \"/home/nahomnadew/Desktop/10x/Adey_Inoviation_Inc/week8/Data/Fraud_Data.csv\"\n",
    "IPaddress_data = \"/home/nahomnadew/Desktop/10x/week8/Adey_Inoviation_Inc/Data/IpAddress_to_Country.csv\""
   ]
  },
  {
   "cell_type": "code",
   "execution_count": 13,
   "metadata": {},
   "outputs": [],
   "source": [
    "credit  = DataPreprocessor(credit_data)\n",
    "Fraud = DataPreprocessor(Fraud_data)\n",
    "IPaddress = DataPreprocessor(IPaddress_data)"
   ]
  },
  {
   "cell_type": "code",
   "execution_count": 17,
   "metadata": {},
   "outputs": [
    {
     "name": "stdout",
     "output_type": "stream",
     "text": [
      "credit data\n",
      "🔢 Numerical Columns: ['Time', 'V1', 'V2', 'V3', 'V4', 'V5', 'V6', 'V7', 'V8', 'V9', 'V10', 'V11', 'V12', 'V13', 'V14', 'V15', 'V16', 'V17', 'V18', 'V19', 'V20', 'V21', 'V22', 'V23', 'V24', 'V25', 'V26', 'V27', 'V28', 'Amount', 'Class']\n",
      "🔤 Categorical Columns: []\n",
      "✅ Data loaded successfully from /home/nahomnadew/Desktop/10x/week8/Data/creditcard.csv\n",
      "\n",
      "\n",
      "Fraud data\n",
      "🔢 Numerical Columns: ['user_id', 'purchase_value', 'age', 'ip_address', 'class']\n",
      "🔤 Categorical Columns: ['signup_time', 'purchase_time', 'device_id', 'source', 'browser', 'sex']\n",
      "✅ Data loaded successfully from /home/nahomnadew/Desktop/10x/week8/Data/Fraud_Data.csv\n",
      "\n",
      "\n",
      "IPaddress data\n",
      "🔢 Numerical Columns: ['lower_bound_ip_address', 'upper_bound_ip_address']\n",
      "🔤 Categorical Columns: ['country']\n",
      "✅ Data loaded successfully from /home/nahomnadew/Desktop/10x/week8/Data/IpAddress_to_Country.csv\n"
     ]
    }
   ],
   "source": [
    "print('credit data')\n",
    "credit.load_data()\n",
    "print('\\n\\nFraud data') \n",
    "Fraud.load_data()\n",
    "print('\\n\\nIPaddress data') \n",
    "IPaddress.load_data()"
   ]
  },
  {
   "cell_type": "code",
   "execution_count": 18,
   "metadata": {},
   "outputs": [
    {
     "name": "stdout",
     "output_type": "stream",
     "text": [
      "credit data\n",
      "🔢 Numerical Columns: ['Time', 'V1', 'V2', 'V3', 'V4', 'V5', 'V6', 'V7', 'V8', 'V9', 'V10', 'V11', 'V12', 'V13', 'V14', 'V15', 'V16', 'V17', 'V18', 'V19', 'V20', 'V21', 'V22', 'V23', 'V24', 'V25', 'V26', 'V27', 'V28', 'Amount', 'Class']\n",
      "🔤 Categorical Columns: []\n",
      "\n",
      "\n",
      " Fraud data\n",
      "🔢 Numerical Columns: ['user_id', 'purchase_value', 'age', 'ip_address', 'class']\n",
      "🔤 Categorical Columns: ['signup_time', 'purchase_time', 'device_id', 'source', 'browser', 'sex']\n",
      "\n",
      "\n",
      " Ip address data\n",
      "🔢 Numerical Columns: ['lower_bound_ip_address', 'upper_bound_ip_address']\n",
      "🔤 Categorical Columns: ['country']\n"
     ]
    }
   ],
   "source": [
    "print('credit data')\n",
    "credit._identify_column_types()\n",
    "print('\\n\\n Fraud data')\n",
    "Fraud._identify_column_types()  \n",
    "print('\\n\\n Ip address data')\n",
    "IPaddress._identify_column_types()  "
   ]
  },
  {
   "cell_type": "code",
   "execution_count": 19,
   "metadata": {},
   "outputs": [
    {
     "name": "stdout",
     "output_type": "stream",
     "text": [
      "credit data\n",
      "📊 Missing values per column:\n",
      " Series([], dtype: int64)\n",
      "\n",
      "\n",
      " Fraud data\n",
      "📊 Missing values per column:\n",
      " Series([], dtype: int64)\n",
      "\n",
      "\n",
      " Ip address data\n",
      "📊 Missing values per column:\n",
      " Series([], dtype: int64)\n"
     ]
    },
    {
     "data": {
      "text/plain": [
       "lower_bound_ip_address    0\n",
       "upper_bound_ip_address    0\n",
       "country                   0\n",
       "dtype: int64"
      ]
     },
     "execution_count": 19,
     "metadata": {},
     "output_type": "execute_result"
    }
   ],
   "source": [
    "print('credit data')\n",
    "credit.check_missing_values()\n",
    "print('\\n\\n Fraud data')\n",
    "Fraud.check_missing_values()  \n",
    "print('\\n\\n Ip address data')\n",
    "IPaddress.check_missing_values()  "
   ]
  },
  {
   "cell_type": "code",
   "execution_count": 23,
   "metadata": {},
   "outputs": [
    {
     "name": "stdout",
     "output_type": "stream",
     "text": [
      "credit data\n",
      "\t...done\n",
      "\n",
      "\n",
      " Fraud data\n",
      "\t...done\n",
      "\n",
      "\n",
      " Ip address data\n",
      "\t...done\n"
     ]
    }
   ],
   "source": [
    "print('credit data')\n",
    "credit.handle_missing_values()\n",
    "print('\\t...done')\n",
    "print('\\n\\n Fraud data')\n",
    "Fraud.handle_missing_values()  \n",
    "print('\\t...done')\n",
    "print('\\n\\n Ip address data')\n",
    "IPaddress.handle_missing_values()\n",
    "print('\\t...done')  "
   ]
  },
  {
   "cell_type": "code",
   "execution_count": 24,
   "metadata": {},
   "outputs": [],
   "source": [
    "cr = '/home/nahomnadew/Desktop/10x/week8/Adey_Inoviation_Inc/Data/missingHandled/creditcard.csv'\n",
    "fr = '/home/nahomnadew/Desktop/10x/week8/Adey_Inoviation_Inc/Data/missingHandled/Fraud_Data.csv'\n",
    "ipadd = '/home/nahomnadew/Desktop/10x/week8/Adey_Inoviation_Inc/Data/missingHandled/IpAddress_to_Country.csv'"
   ]
  },
  {
   "cell_type": "code",
   "execution_count": 25,
   "metadata": {},
   "outputs": [
    {
     "name": "stdout",
     "output_type": "stream",
     "text": [
      "✅ Cleaned data saved to /home/nahomnadew/Desktop/10x/week8/Data/missingHandled/creditcard.csv\n",
      "✅ Cleaned data saved to /home/nahomnadew/Desktop/10x/week8/Data/missingHandled/Fraud_Data.csv\n",
      "✅ Cleaned data saved to /home/nahomnadew/Desktop/10x/week8/Data/missingHandled/IpAddress_to_Country.csv\n"
     ]
    }
   ],
   "source": [
    "credit.save_cleaned_data(cr)\n",
    "Fraud.save_cleaned_data(fr) \n",
    "IPaddress.save_cleaned_data(ipadd)  "
   ]
  },
  {
   "cell_type": "code",
   "execution_count": null,
   "metadata": {},
   "outputs": [],
   "source": []
  }
 ],
 "metadata": {
  "kernelspec": {
   "display_name": ".venv",
   "language": "python",
   "name": "python3"
  },
  "language_info": {
   "codemirror_mode": {
    "name": "ipython",
    "version": 3
   },
   "file_extension": ".py",
   "mimetype": "text/x-python",
   "name": "python",
   "nbconvert_exporter": "python",
   "pygments_lexer": "ipython3",
   "version": "3.12.3"
  }
 },
 "nbformat": 4,
 "nbformat_minor": 2
}
